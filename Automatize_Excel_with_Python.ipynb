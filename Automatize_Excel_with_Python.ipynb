{
 "cells": [
  {
   "cell_type": "code",
   "execution_count": 1,
   "id": "0aa3f0ba",
   "metadata": {},
   "outputs": [],
   "source": [
    "import pandas as pd"
   ]
  },
  {
   "cell_type": "code",
   "execution_count": 33,
   "id": "c6b3f57a",
   "metadata": {},
   "outputs": [
    {
     "name": "stdout",
     "output_type": "stream",
     "text": [
      "Reading file\n",
      "Enter file name: supermarket_sales\n",
      "Adding filters\n",
      "\tFINISHED. Press enter to exit\n"
     ]
    }
   ],
   "source": [
    "def main():\n",
    "    df = read_files()\n",
    "    df = add_filter(df)\n",
    "    #visualize(df)\n",
    "    export(df)\n",
    "\n",
    "def read_files():\n",
    "    print(\"Reading file\")\n",
    "    import os\n",
    "    input_cols = [3,4,5,6,7,12]\n",
    "    path = \"..\\Input\"\n",
    "    filename = input(\"Enter file name: \") + \"xlsx\"\n",
    "    fullpath = os.path.join(path,filename)\n",
    "    df = pd.read_excel(\"..\\Input\\supermarket_sales.xlsx\",\n",
    "                 sheet_name=\"Hoja1\",header=0, usecols = input_cols)\n",
    "    \n",
    "    return df\n",
    "\n",
    "def add_filter(df):\n",
    "    print(\"Adding filters\")\n",
    "    df = df[df['Payment']==\"Cash\"]\n",
    "    return df\n",
    "    \n",
    "\n",
    "def visualize(df):\n",
    "    print(\"First five rows\")\n",
    "    df_cols = df.columns\n",
    "    for col in df_cols:\n",
    "        print(df[col].head(5))\n",
    "    \n",
    "def export(df):\n",
    "    df.to_csv(\"..\\Output\\example.csv\",\n",
    "             sep=\",\",\n",
    "             header = True,\n",
    "             index = False)\n",
    "    \n",
    "if __name__ == \"__main__\":\n",
    "    main()\n",
    "    input(\"\\tFINISHED. Press enter to exit\")"
   ]
  },
  {
   "cell_type": "code",
   "execution_count": null,
   "id": "614a0f93",
   "metadata": {},
   "outputs": [],
   "source": []
  },
  {
   "cell_type": "code",
   "execution_count": null,
   "id": "3ed20d4a",
   "metadata": {},
   "outputs": [],
   "source": []
  },
  {
   "cell_type": "code",
   "execution_count": 13,
   "id": "07bfe85e",
   "metadata": {},
   "outputs": [],
   "source": []
  },
  {
   "cell_type": "code",
   "execution_count": null,
   "id": "1d9f78ec",
   "metadata": {},
   "outputs": [],
   "source": []
  },
  {
   "cell_type": "code",
   "execution_count": null,
   "id": "8a27de44",
   "metadata": {},
   "outputs": [],
   "source": []
  },
  {
   "cell_type": "code",
   "execution_count": 18,
   "id": "cc50d182",
   "metadata": {},
   "outputs": [],
   "source": []
  },
  {
   "cell_type": "code",
   "execution_count": 21,
   "id": "762b0a7c",
   "metadata": {},
   "outputs": [],
   "source": []
  },
  {
   "cell_type": "code",
   "execution_count": null,
   "id": "841d62aa",
   "metadata": {},
   "outputs": [],
   "source": []
  },
  {
   "cell_type": "code",
   "execution_count": 24,
   "id": "c51aabfa",
   "metadata": {},
   "outputs": [],
   "source": []
  },
  {
   "cell_type": "code",
   "execution_count": null,
   "id": "f853e278",
   "metadata": {},
   "outputs": [],
   "source": []
  }
 ],
 "metadata": {
  "kernelspec": {
   "display_name": "Python 3 (ipykernel)",
   "language": "python",
   "name": "python3"
  },
  "language_info": {
   "codemirror_mode": {
    "name": "ipython",
    "version": 3
   },
   "file_extension": ".py",
   "mimetype": "text/x-python",
   "name": "python",
   "nbconvert_exporter": "python",
   "pygments_lexer": "ipython3",
   "version": "3.9.13"
  }
 },
 "nbformat": 4,
 "nbformat_minor": 5
}
